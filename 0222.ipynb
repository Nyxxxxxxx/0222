{
 "cells": [
  {
   "cell_type": "code",
   "execution_count": 6,
   "id": "3cc52b48",
   "metadata": {
    "scrolled": true
   },
   "outputs": [],
   "source": [
    "list_ = ['한지민', 25, 78, 88, 95]\n"
   ]
  },
  {
   "cell_type": "code",
   "execution_count": 15,
   "id": "1cc5cd4b",
   "metadata": {},
   "outputs": [],
   "source": [
    "tot = list_[2] + list_[3] + list_[4]\n",
    "avg = tot / 3.\n",
    "grade = None\n",
    "if 90 <= avg <= 100: grade = 'A'\n",
    "elif 80 <= avg <= 90: grade ='B'\n",
    "elif 70 <= avg <= 80: grade = 'C'\n",
    "elif 60 <= avg <= 70: grade = 'D'\n",
    "else: grade = 'F'\n",
    "list_.append(tot)\n",
    "list_.append(avg)\n",
    "list_.append(grade)"
   ]
  },
  {
   "cell_type": "code",
   "execution_count": 13,
   "id": "b1e789dd",
   "metadata": {},
   "outputs": [
    {
     "name": "stdout",
     "output_type": "stream",
     "text": [
      "B\n"
     ]
    }
   ],
   "source": [
    "print(grade)"
   ]
  },
  {
   "cell_type": "code",
   "execution_count": 16,
   "id": "e033bc4d",
   "metadata": {},
   "outputs": [
    {
     "name": "stdout",
     "output_type": "stream",
     "text": [
      "Name : \n"
     ]
    },
    {
     "ename": "ValueError",
     "evalue": "invalid literal for int() with base 10: ''",
     "output_type": "error",
     "traceback": [
      "\u001b[0;31m---------------------------------------------------------------------------\u001b[0m",
      "\u001b[0;31mValueError\u001b[0m                                Traceback (most recent call last)",
      "Cell \u001b[0;32mIn[16], line 2\u001b[0m\n\u001b[1;32m      1\u001b[0m student_ \u001b[38;5;241m=\u001b[39m []\n\u001b[0;32m----> 2\u001b[0m name \u001b[38;5;241m=\u001b[39m \u001b[38;5;28;43mint\u001b[39;49m\u001b[43m(\u001b[49m\u001b[38;5;28;43minput\u001b[39;49m\u001b[43m(\u001b[49m\u001b[38;5;124;43m'\u001b[39;49m\u001b[38;5;124;43mName : \u001b[39;49m\u001b[38;5;124;43m'\u001b[39;49m\u001b[43m)\u001b[49m\u001b[43m)\u001b[49m\n\u001b[1;32m      3\u001b[0m student_\u001b[38;5;241m.\u001b[39mappend(name)\n\u001b[1;32m      4\u001b[0m kor \u001b[38;5;241m=\u001b[39m \u001b[38;5;28mint\u001b[39m(\u001b[38;5;28minput\u001b[39m(\u001b[38;5;124m'\u001b[39m\u001b[38;5;124mKorean :\u001b[39m\u001b[38;5;124m'\u001b[39m))\n",
      "\u001b[0;31mValueError\u001b[0m: invalid literal for int() with base 10: ''"
     ]
    }
   ],
   "source": [
    "student_ = []\n",
    "name = int(input('Name : '))\n",
    "student_.append(name)\n",
    "kor = int(input('Korean :'))\n",
    "student_.append(kor)\n",
    "eng = int(input('English:'))\n",
    "student_.append(eng)\n",
    "math = int(input('Math'))\n",
    "student_.append(math)\n",
    "print(student_)"
   ]
  },
  {
   "cell_type": "code",
   "execution_count": 19,
   "id": "477cc15f",
   "metadata": {},
   "outputs": [
    {
     "name": "stdout",
     "output_type": "stream",
     "text": [
      "1000\n",
      "16 분 40 초\n"
     ]
    }
   ],
   "source": [
    "num = int(input())\n",
    "num2 = num//60 \n",
    "num3 = num%60\n",
    "print(num2,'분', num3,'초')"
   ]
  },
  {
   "cell_type": "code",
   "execution_count": 20,
   "id": "9314df5d",
   "metadata": {},
   "outputs": [],
   "source": [
    "#end to end solution 구축기 : "
   ]
  },
  {
   "cell_type": "code",
   "execution_count": 29,
   "id": "212b711a",
   "metadata": {},
   "outputs": [],
   "source": [
    "def input_student(student) :\n",
    "    student['name'] = input('Name: ')\n",
    "    student['age']  = input('Age :')"
   ]
  },
  {
   "cell_type": "code",
   "execution_count": 30,
   "id": "8a9b84a7",
   "metadata": {},
   "outputs": [],
   "source": [
    "def output_student(student) :\n",
    "    print('이름 = %s, 나이 = %s입니다.' %(student['name'], student['age']))"
   ]
  },
  {
   "cell_type": "code",
   "execution_count": 23,
   "id": "25e1cddb",
   "metadata": {},
   "outputs": [
    {
     "name": "stdout",
     "output_type": "stream",
     "text": [
      "__main__\n"
     ]
    }
   ],
   "source": [
    "print(__name__)"
   ]
  },
  {
   "cell_type": "code",
   "execution_count": 35,
   "id": "a83d13ac",
   "metadata": {},
   "outputs": [
    {
     "name": "stdout",
     "output_type": "stream",
     "text": [
      "Name: d\n",
      "Age :d\n",
      "이름 = d, 나이 = d입니다.\n"
     ]
    }
   ],
   "source": [
    "student_ = {}\n",
    "if __name__ == '__main__' :\n",
    "    input_student(student_)\n",
    "    output_student(student_)"
   ]
  },
  {
   "cell_type": "code",
   "execution_count": 38,
   "id": "88e6c8d3",
   "metadata": {},
   "outputs": [
    {
     "name": "stdout",
     "output_type": "stream",
     "text": [
      "Requirement already satisfied: nbconvert in /home/ubuntu/PythonHome/0221/lib/python3.10/site-packages (7.2.9)\n",
      "Requirement already satisfied: tinycss2 in /home/ubuntu/PythonHome/0221/lib/python3.10/site-packages (from nbconvert) (1.2.1)\n",
      "Requirement already satisfied: pandocfilters>=1.4.1 in /home/ubuntu/PythonHome/0221/lib/python3.10/site-packages (from nbconvert) (1.5.0)\n",
      "Requirement already satisfied: jinja2>=3.0 in /home/ubuntu/PythonHome/0221/lib/python3.10/site-packages (from nbconvert) (3.1.2)\n",
      "Requirement already satisfied: mistune<3,>=2.0.3 in /home/ubuntu/PythonHome/0221/lib/python3.10/site-packages (from nbconvert) (2.0.5)\n",
      "Requirement already satisfied: jupyter-core>=4.7 in /home/ubuntu/PythonHome/0221/lib/python3.10/site-packages (from nbconvert) (5.2.0)\n",
      "Requirement already satisfied: nbclient>=0.5.0 in /home/ubuntu/PythonHome/0221/lib/python3.10/site-packages (from nbconvert) (0.7.2)\n",
      "Requirement already satisfied: traitlets>=5.0 in /home/ubuntu/PythonHome/0221/lib/python3.10/site-packages (from nbconvert) (5.9.0)\n",
      "Requirement already satisfied: markupsafe>=2.0 in /home/ubuntu/PythonHome/0221/lib/python3.10/site-packages (from nbconvert) (2.1.2)\n",
      "Requirement already satisfied: bleach in /home/ubuntu/PythonHome/0221/lib/python3.10/site-packages (from nbconvert) (6.0.0)\n",
      "Requirement already satisfied: packaging in /home/ubuntu/PythonHome/0221/lib/python3.10/site-packages (from nbconvert) (23.0)\n",
      "Requirement already satisfied: pygments>=2.4.1 in /home/ubuntu/PythonHome/0221/lib/python3.10/site-packages (from nbconvert) (2.14.0)\n",
      "Requirement already satisfied: beautifulsoup4 in /home/ubuntu/PythonHome/0221/lib/python3.10/site-packages (from nbconvert) (4.11.2)\n",
      "Requirement already satisfied: jupyterlab-pygments in /home/ubuntu/PythonHome/0221/lib/python3.10/site-packages (from nbconvert) (0.2.2)\n",
      "Requirement already satisfied: nbformat>=5.1 in /home/ubuntu/PythonHome/0221/lib/python3.10/site-packages (from nbconvert) (5.7.3)\n",
      "Requirement already satisfied: defusedxml in /home/ubuntu/PythonHome/0221/lib/python3.10/site-packages (from nbconvert) (0.7.1)\n",
      "Requirement already satisfied: platformdirs>=2.5 in /home/ubuntu/PythonHome/0221/lib/python3.10/site-packages (from jupyter-core>=4.7->nbconvert) (3.0.0)\n",
      "Requirement already satisfied: jupyter-client>=6.1.12 in /home/ubuntu/PythonHome/0221/lib/python3.10/site-packages (from nbclient>=0.5.0->nbconvert) (8.0.3)\n",
      "Requirement already satisfied: jsonschema>=2.6 in /home/ubuntu/PythonHome/0221/lib/python3.10/site-packages (from nbformat>=5.1->nbconvert) (4.17.3)\n",
      "Requirement already satisfied: fastjsonschema in /home/ubuntu/PythonHome/0221/lib/python3.10/site-packages (from nbformat>=5.1->nbconvert) (2.16.2)\n",
      "Requirement already satisfied: soupsieve>1.2 in /home/ubuntu/PythonHome/0221/lib/python3.10/site-packages (from beautifulsoup4->nbconvert) (2.4)\n",
      "Requirement already satisfied: six>=1.9.0 in /home/ubuntu/PythonHome/0221/lib/python3.10/site-packages (from bleach->nbconvert) (1.16.0)\n",
      "Requirement already satisfied: webencodings in /home/ubuntu/PythonHome/0221/lib/python3.10/site-packages (from bleach->nbconvert) (0.5.1)\n",
      "Requirement already satisfied: pyrsistent!=0.17.0,!=0.17.1,!=0.17.2,>=0.14.0 in /home/ubuntu/PythonHome/0221/lib/python3.10/site-packages (from jsonschema>=2.6->nbformat>=5.1->nbconvert) (0.19.3)\n",
      "Requirement already satisfied: attrs>=17.4.0 in /home/ubuntu/PythonHome/0221/lib/python3.10/site-packages (from jsonschema>=2.6->nbformat>=5.1->nbconvert) (22.2.0)\n",
      "Requirement already satisfied: tornado>=6.2 in /home/ubuntu/PythonHome/0221/lib/python3.10/site-packages (from jupyter-client>=6.1.12->nbclient>=0.5.0->nbconvert) (6.2)\n",
      "Requirement already satisfied: pyzmq>=23.0 in /home/ubuntu/PythonHome/0221/lib/python3.10/site-packages (from jupyter-client>=6.1.12->nbclient>=0.5.0->nbconvert) (25.0.0)\n",
      "Requirement already satisfied: python-dateutil>=2.8.2 in /home/ubuntu/PythonHome/0221/lib/python3.10/site-packages (from jupyter-client>=6.1.12->nbclient>=0.5.0->nbconvert) (2.8.2)\n",
      "\n",
      "\u001b[1m[\u001b[0m\u001b[34;49mnotice\u001b[0m\u001b[1;39;49m]\u001b[0m\u001b[39;49m A new release of pip is available: \u001b[0m\u001b[31;49m23.0\u001b[0m\u001b[39;49m -> \u001b[0m\u001b[32;49m23.0.1\u001b[0m\n",
      "\u001b[1m[\u001b[0m\u001b[34;49mnotice\u001b[0m\u001b[1;39;49m]\u001b[0m\u001b[39;49m To update, run: \u001b[0m\u001b[32;49mpip install --upgrade pip\u001b[0m\n",
      "Note: you may need to restart the kernel to use updated packages.\n"
     ]
    }
   ],
   "source": [
    "pip install nbconvert"
   ]
  },
  {
   "cell_type": "code",
   "execution_count": null,
   "id": "3b20505d",
   "metadata": {},
   "outputs": [],
   "source": [
    "jupyter nbconvert --to script "
   ]
  },
  {
   "cell_type": "code",
   "execution_count": null,
   "id": "08c5ae99",
   "metadata": {},
   "outputs": [],
   "source": []
  },
  {
   "cell_type": "code",
   "execution_count": null,
   "id": "a4affd40",
   "metadata": {},
   "outputs": [],
   "source": []
  },
  {
   "cell_type": "code",
   "execution_count": null,
   "id": "c40cfc52",
   "metadata": {},
   "outputs": [],
   "source": []
  },
  {
   "cell_type": "code",
   "execution_count": null,
   "id": "2dc66914",
   "metadata": {},
   "outputs": [],
   "source": []
  }
 ],
 "metadata": {
  "kernelspec": {
   "display_name": "Python 3 (ipykernel)",
   "language": "python",
   "name": "python3"
  },
  "language_info": {
   "codemirror_mode": {
    "name": "ipython",
    "version": 3
   },
   "file_extension": ".py",
   "mimetype": "text/x-python",
   "name": "python",
   "nbconvert_exporter": "python",
   "pygments_lexer": "ipython3",
   "version": "3.10.6"
  }
 },
 "nbformat": 4,
 "nbformat_minor": 5
}
